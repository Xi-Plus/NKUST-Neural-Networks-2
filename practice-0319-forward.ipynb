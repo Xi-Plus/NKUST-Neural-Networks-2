{
 "cells": [
  {
   "cell_type": "code",
   "execution_count": 1,
   "metadata": {},
   "outputs": [],
   "source": [
    "import numpy as np\n",
    "\n",
    "def Sigmoid(x):\n",
    "     return 1.0 / (1.0 + np.exp(-x))"
   ]
  },
  {
   "cell_type": "markdown",
   "metadata": {},
   "source": [
    "## Ex2"
   ]
  },
  {
   "cell_type": "code",
   "execution_count": 2,
   "metadata": {},
   "outputs": [
    {
     "name": "stdout",
     "output_type": "stream",
     "text": [
      "H= [0.7280596  0.74067887]\n",
      "O= [0.76950199]\n"
     ]
    }
   ],
   "source": [
    "Input = np.array([0.94, 0.22, 0.49])\n",
    "W1 = np.array([\n",
    "    [0.71, 0.73, 0.32],\n",
    "    [0.91, 0.37, 0.23],\n",
    "])\n",
    "H = Sigmoid(W1.dot(Input.T))\n",
    "print('H=', H)\n",
    "W2 = np.array([\n",
    "    [0.73, 0.91],\n",
    "])\n",
    "O = Sigmoid(W2.dot(H.T))\n",
    "print('O=', O)"
   ]
  },
  {
   "cell_type": "markdown",
   "metadata": {},
   "source": [
    "## Ex3"
   ]
  },
  {
   "cell_type": "code",
   "execution_count": 3,
   "metadata": {},
   "outputs": [
    {
     "name": "stdout",
     "output_type": "stream",
     "text": [
      "H= [0.76133271 0.60348325 0.65021855]\n",
      "O= [0.72630335 0.70859807 0.77809706]\n"
     ]
    }
   ],
   "source": [
    "Input = np.array([0.9, 0.1, 0.8])\n",
    "W1 = np.array([\n",
    "    [0.9, 0.3, 0.4],\n",
    "    [0.2, 0.8, 0.2],\n",
    "    [0.1, 0.5, 0.6],\n",
    "])\n",
    "H = Sigmoid(W1.dot(Input.T))\n",
    "print('H=', H)\n",
    "W2 = np.array([\n",
    "    [0.3, 0.7, 0.5],\n",
    "    [0.6, 0.5, 0.2],\n",
    "    [0.8, 0.1, 0.9],\n",
    "])\n",
    "O = Sigmoid(W2.dot(H.T))\n",
    "print('O=', O)"
   ]
  }
 ],
 "metadata": {
  "kernelspec": {
   "display_name": "Python 3",
   "language": "python",
   "name": "python3"
  },
  "language_info": {
   "codemirror_mode": {
    "name": "ipython",
    "version": 3
   },
   "file_extension": ".py",
   "mimetype": "text/x-python",
   "name": "python",
   "nbconvert_exporter": "python",
   "pygments_lexer": "ipython3",
   "version": "3.7.3"
  }
 },
 "nbformat": 4,
 "nbformat_minor": 2
}
