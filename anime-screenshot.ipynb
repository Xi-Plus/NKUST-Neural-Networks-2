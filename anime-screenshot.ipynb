{
  "nbformat": 4,
  "nbformat_minor": 0,
  "metadata": {
    "colab": {
      "name": "anime-screenshot.ipynb",
      "provenance": [],
      "collapsed_sections": []
    },
    "kernelspec": {
      "name": "python3",
      "display_name": "Python 3"
    },
    "accelerator": "GPU"
  },
  "cells": [
    {
      "cell_type": "code",
      "metadata": {
        "id": "zFzyb1crf_vP",
        "colab_type": "code",
        "colab": {}
      },
      "source": [
        "try:\n",
        "    from google.colab import drive\n",
        "    IN_COLAB = True\n",
        "except:\n",
        "    IN_COLAB = False\n",
        "\n",
        "print('IN_COLAB', IN_COLAB)\n",
        "\n",
        "if IN_COLAB:\n",
        "    drive.mount('/content/drive')\n",
        "    ROOT_DIR = '/content/drive/My Drive/archive/Captured'\n",
        "else:\n",
        "    ROOT_DIR = 'Captured'"
      ],
      "execution_count": 0,
      "outputs": []
    },
    {
      "cell_type": "code",
      "metadata": {
        "id": "eZoGGrnIxsHs",
        "colab_type": "code",
        "colab": {}
      },
      "source": [
        "from google.colab import auth\n",
        "auth.authenticate_user()\n",
        "import gspread\n",
        "from oauth2client.client import GoogleCredentials\n",
        "gc = gspread.authorize(GoogleCredentials.get_application_default())"
      ],
      "execution_count": 0,
      "outputs": []
    },
    {
      "cell_type": "code",
      "metadata": {
        "id": "RBvIYdAUf0lp",
        "colab_type": "code",
        "colab": {}
      },
      "source": [
        "# %tensorflow_version 1.x\n",
        "# %matplotlib notebook\n",
        "import tensorflow as tf\n",
        "from tensorflow.keras import datasets, layers, models\n",
        "import matplotlib.pyplot as plt\n",
        "\n",
        "import os\n",
        "import numpy as np\n",
        "import glob\n",
        "import time\n",
        "import pickle"
      ],
      "execution_count": 0,
      "outputs": []
    },
    {
      "cell_type": "code",
      "metadata": {
        "id": "Z7Xp3_c5toJY",
        "colab_type": "code",
        "colab": {}
      },
      "source": [
        "import cv2\n",
        "from google.colab.patches import cv2_imshow "
      ],
      "execution_count": 0,
      "outputs": []
    },
    {
      "cell_type": "code",
      "metadata": {
        "id": "Rj7c8U2CgAO3",
        "colab_type": "code",
        "colab": {}
      },
      "source": [
        "print(tf.__version__)"
      ],
      "execution_count": 0,
      "outputs": []
    },
    {
      "cell_type": "code",
      "metadata": {
        "id": "-xDYEhKa7JK-",
        "colab_type": "code",
        "colab": {}
      },
      "source": [
        "BATCH_SIZE = 32"
      ],
      "execution_count": 0,
      "outputs": []
    },
    {
      "cell_type": "code",
      "metadata": {
        "id": "BoytpBJzasCM",
        "colab_type": "code",
        "colab": {}
      },
      "source": [
        "IMG_HEIGHT = 9 * 20\n",
        "IMG_HEIGHT2 = IMG_HEIGHT // 3\n",
        "IMG_WIDTH = 16 * 20\n",
        "\n",
        "print(IMG_HEIGHT, IMG_HEIGHT2, IMG_WIDTH)"
      ],
      "execution_count": 0,
      "outputs": []
    },
    {
      "cell_type": "code",
      "metadata": {
        "id": "BMytCUJAxo8K",
        "colab_type": "code",
        "colab": {}
      },
      "source": [
        "def read_labels_from_drive(anime_name):\n",
        "    worksheet = gc.open(anime_name).sheet1\n",
        "    rows = worksheet.get_all_values()\n",
        "    labels = {}\n",
        "    for row in rows:\n",
        "        labels[row[0]] = int(row[1])\n",
        "    return labels"
      ],
      "execution_count": 0,
      "outputs": []
    },
    {
      "cell_type": "code",
      "metadata": {
        "id": "Jg0_fy6tkXX8",
        "colab_type": "code",
        "colab": {}
      },
      "source": [
        "def list_filenames_from_drive(anime_name):\n",
        "    filenames = []\n",
        "    img_dir = os.path.join(ROOT_DIR, anime_name, '*.png')\n",
        "    for filename in glob.glob(img_dir):\n",
        "        filenames.append(filename)\n",
        "    img_dir = os.path.join(ROOT_DIR, anime_name, '*.jpg')\n",
        "    for filename in glob.glob(img_dir):\n",
        "        filenames.append(filename)\n",
        "    return filenames"
      ],
      "execution_count": 0,
      "outputs": []
    },
    {
      "cell_type": "code",
      "metadata": {
        "id": "H7FnoWHyk7E7",
        "colab_type": "code",
        "colab": {}
      },
      "source": [
        "def get_labels_by_filenames(anime_name, filenames):\n",
        "    all_labels = read_labels_from_drive(anime_name)\n",
        "    labels = []\n",
        "    for filename in filenames:\n",
        "        filename = os.path.split(filename)[-1]\n",
        "        labels.append(all_labels[filename])\n",
        "    return labels"
      ],
      "execution_count": 0,
      "outputs": []
    },
    {
      "cell_type": "code",
      "metadata": {
        "id": "7Boof4PCnHqk",
        "colab_type": "code",
        "colab": {}
      },
      "source": [
        "def get_dataset(anime_name, limit=None, reload_labels=False):\n",
        "    print('Load {}'.format(anime_name))\n",
        "    start_time = time.time()\n",
        "\n",
        "    cache_path = '{}/data/{}.cache'.format(ROOT_DIR, anime_name)\n",
        "    if os.path.exists(cache_path):\n",
        "        with open(cache_path, 'rb') as f:\n",
        "            images, labels, filenames = pickle.load(f)\n",
        "    else:\n",
        "        images = []\n",
        "        labels = []\n",
        "\n",
        "        filenames = list_filenames_from_drive(anime_name)\n",
        "        if limit:\n",
        "            filenames = filenames[:limit]\n",
        "        labels = get_labels_by_filenames(anime_name, filenames)\n",
        "        for i, filename in enumerate(filenames):\n",
        "            if i % 100 == 0:\n",
        "                print(i)\n",
        "            img = cv2.imread(filename, cv2.IMREAD_GRAYSCALE)\n",
        "            img = cv2.resize(img, (IMG_WIDTH, IMG_HEIGHT))\n",
        "            img = img[IMG_HEIGHT-IMG_HEIGHT2:, :, np.newaxis]\n",
        "            images.append(img)\n",
        "\n",
        "        with open(cache_path, 'wb') as f:\n",
        "            pickle.dump((images, labels, filenames), f)\n",
        "\n",
        "    if reload_labels:\n",
        "        labels = get_labels_by_filenames(anime_name, filenames)\n",
        "        with open(cache_path, 'wb') as f:\n",
        "            pickle.dump((images, labels, filenames), f)\n",
        "\n",
        "    print('Get {} images from {} in {:.2f} s'.format(len(images), anime_name, time.time()-start_time))\n",
        "\n",
        "    return images, labels, filenames"
      ],
      "execution_count": 0,
      "outputs": []
    },
    {
      "cell_type": "code",
      "metadata": {
        "id": "3KXqv5SS0JUr",
        "colab_type": "code",
        "colab": {}
      },
      "source": [
        "Kaguya_sama2 = '輝夜姬想讓人告白～天才們的戀愛頭腦戰～ 第二季' # 1555\n",
        "Bookworm2 = '小書痴的下剋上：為了成為圖書管理員不擇手段！第二季' # 167\n",
        "SakuraWars = '新櫻花大戰 動畫' # 120\n",
        "Kakushigoto = '隱瞞之事' # 475\n",
        "HameFura = '轉生成女性向遊戲只有毀滅END的壞人大小姐' # 48\n",
        "KinmozaPrettyDays = '黃金拼圖 Pretty Days' # 39"
      ],
      "execution_count": 0,
      "outputs": []
    },
    {
      "cell_type": "code",
      "metadata": {
        "id": "Twi09aizoOkb",
        "colab_type": "code",
        "colab": {}
      },
      "source": [
        "train_images = []\n",
        "train_labels = []"
      ],
      "execution_count": 0,
      "outputs": []
    },
    {
      "cell_type": "code",
      "metadata": {
        "id": "T_nxWrSM-mFe",
        "colab_type": "code",
        "colab": {}
      },
      "source": [
        "# images, labels, _ = get_dataset(\n",
        "#     Kaguya_sama2,\n",
        "# )\n",
        "# train_images += images\n",
        "# train_labels += labels"
      ],
      "execution_count": 0,
      "outputs": []
    },
    {
      "cell_type": "code",
      "metadata": {
        "id": "ou1-8b0moVsW",
        "colab_type": "code",
        "colab": {}
      },
      "source": [
        "images, labels, _ = get_dataset(\n",
        "    SakuraWars,\n",
        ")\n",
        "train_images += images\n",
        "train_labels += labels"
      ],
      "execution_count": 0,
      "outputs": []
    },
    {
      "cell_type": "code",
      "metadata": {
        "id": "4YcCKs5Cnt3s",
        "colab_type": "code",
        "colab": {}
      },
      "source": [
        "DS_SIZE = len(train_images)\n",
        "print('DS_SIZE', DS_SIZE)"
      ],
      "execution_count": 0,
      "outputs": []
    },
    {
      "cell_type": "code",
      "metadata": {
        "id": "0HUjTP3ibJYP",
        "colab_type": "code",
        "colab": {}
      },
      "source": [
        "train_images = np.array(train_images)\n",
        "train_labels = np.array(train_labels)"
      ],
      "execution_count": 0,
      "outputs": []
    },
    {
      "cell_type": "code",
      "metadata": {
        "id": "tG20avrQbMmD",
        "colab_type": "code",
        "colab": {}
      },
      "source": [
        "print(train_images.shape)\n",
        "print(train_labels.shape)"
      ],
      "execution_count": 0,
      "outputs": []
    },
    {
      "cell_type": "code",
      "metadata": {
        "id": "V9VBB_bk_1j2",
        "colab_type": "code",
        "colab": {}
      },
      "source": [
        "def show_batch(image_batch, label_batch, count=None):\n",
        "    if count is None:\n",
        "        count = (3, 3)\n",
        "\n",
        "    plt.figure(\n",
        "        # dpi = 200,\n",
        "        figsize=(20, count[0]*2),\n",
        "        facecolor='w',\n",
        "    )\n",
        "    for n in range(count[0]*count[1]):\n",
        "        if n >= len(image_batch):\n",
        "            break\n",
        "        ax = plt.subplot(count[0], count[1], n+1)\n",
        "        plt.imshow(image_batch[n][:, :, 0], cmap='gray')\n",
        "        plt.title(str(label_batch[n]))\n",
        "        plt.axis('off')\n",
        "        ax.autoscale(enable=True) "
      ],
      "execution_count": 0,
      "outputs": []
    },
    {
      "cell_type": "code",
      "metadata": {
        "id": "8f24ejq7_v1v",
        "colab_type": "code",
        "colab": {}
      },
      "source": [
        "show_batch(train_images, train_labels)"
      ],
      "execution_count": 0,
      "outputs": []
    },
    {
      "cell_type": "code",
      "metadata": {
        "id": "QE0oqhkZQ4qH",
        "colab_type": "code",
        "colab": {}
      },
      "source": [
        "print('input_shape', IMG_HEIGHT2, IMG_WIDTH)"
      ],
      "execution_count": 0,
      "outputs": []
    },
    {
      "cell_type": "code",
      "metadata": {
        "id": "uf6kqQzU5gTf",
        "colab_type": "code",
        "colab": {}
      },
      "source": [
        "model = models.Sequential()\n",
        "model.add(layers.Conv2D(64, (3, 3), activation='relu', input_shape=(IMG_HEIGHT2, IMG_WIDTH, 1)))\n",
        "model.add(layers.Conv2D(128, (3, 3), activation='relu'))\n",
        "model.add(layers.MaxPooling2D((2, 2)))\n",
        "model.add(layers.Conv2D(256, (3, 3), activation='relu'))\n",
        "model.add(layers.Conv2D(256, (3, 3), activation='relu'))\n",
        "model.add(layers.MaxPooling2D((2, 2)))\n",
        "model.add(layers.Conv2D(256, (3, 3), activation='relu'))\n",
        "model.add(layers.Conv2D(256, (3, 3), activation='relu'))\n",
        "model.add(layers.MaxPooling2D((2, 2)))\n",
        "model.add(layers.Flatten())\n",
        "model.add(layers.Dense(4096, activation='relu'))\n",
        "model.add(layers.Dense(256, activation='relu'))\n",
        "model.add(layers.Dense(2, activation='softmax'))\n",
        "\n",
        "model.summary()"
      ],
      "execution_count": 0,
      "outputs": []
    },
    {
      "cell_type": "code",
      "metadata": {
        "id": "EZEYHBlAQSPl",
        "colab_type": "code",
        "colab": {}
      },
      "source": [
        "model.compile(optimizer='adam',\n",
        "              loss='sparse_categorical_crossentropy',\n",
        "              metrics=['accuracy'])\n",
        "\n",
        "history = model.fit(\n",
        "    train_images, train_labels,\n",
        "    epochs=10,\n",
        "    validation_split=0.2,\n",
        ")"
      ],
      "execution_count": 0,
      "outputs": []
    },
    {
      "cell_type": "code",
      "metadata": {
        "id": "QEauH6CyhGlV",
        "colab_type": "code",
        "colab": {}
      },
      "source": [
        "plt.figure(facecolor='w')\n",
        "plt.plot(history.history['accuracy'], label='accuracy')\n",
        "plt.plot(history.history['val_accuracy'], label = 'val_accuracy')\n",
        "plt.xlabel('Epoch')\n",
        "plt.ylabel('Accuracy')\n",
        "plt.ylim([0.5, 1])\n",
        "plt.legend(loc='lower right')"
      ],
      "execution_count": 0,
      "outputs": []
    },
    {
      "cell_type": "code",
      "metadata": {
        "id": "BfwOOhgV5t0B",
        "colab_type": "code",
        "colab": {}
      },
      "source": [
        "class Tester:\n",
        "    def __init__(self, anime_name):\n",
        "        test_images, test_labels, filenames = get_dataset(\n",
        "            anime_name,\n",
        "        )\n",
        "        self.test_images = np.array(test_images)\n",
        "        test_labels = np.array(test_labels)\n",
        "\n",
        "        test_loss, test_acc = model.evaluate(self.test_images, test_labels, verbose=2)\n",
        "\n",
        "        predict = model.predict(self.test_images)\n",
        "        self.predict = [1 if t[1] > t[0] else 0 for t in predict]\n",
        "    \n",
        "        self.error_images = []\n",
        "        self.error_labels = []\n",
        "        f = open('{}_error.txt'.format(anime_name), 'w', encoding='utf8')\n",
        "        for i in range(len(self.test_images)):\n",
        "            if self.predict[i] != test_labels[i]:\n",
        "                f.write('{}\\n'.format(filenames[i]))\n",
        "                self.error_images.append(self.test_images[i])\n",
        "                self.error_labels.append(self.predict[i])\n",
        "        f.close()\n",
        "        print('error count', len(self.error_images))\n",
        "\n",
        "    def show_result(self):\n",
        "        show_batch(self.test_images, self.predict, (5, 3))\n",
        "\n",
        "    def show_error(self):\n",
        "        show_batch(self.error_images, self.error_labels)"
      ],
      "execution_count": 0,
      "outputs": []
    },
    {
      "cell_type": "code",
      "metadata": {
        "id": "3-Fw2VPWBJwc",
        "colab_type": "code",
        "colab": {}
      },
      "source": [
        "kaguya_sama2 = Tester(Kaguya_sama2)\n",
        "kaguya_sama2.show_result()"
      ],
      "execution_count": 0,
      "outputs": []
    },
    {
      "cell_type": "code",
      "metadata": {
        "id": "KSaY2ZdhBMXr",
        "colab_type": "code",
        "colab": {}
      },
      "source": [
        "kaguya_sama2.show_error()"
      ],
      "execution_count": 0,
      "outputs": []
    },
    {
      "cell_type": "code",
      "metadata": {
        "id": "E3OUDtboxxRD",
        "colab_type": "code",
        "colab": {}
      },
      "source": [
        "bookworm2 = Tester(Bookworm2)\n",
        "bookworm2.show_result()"
      ],
      "execution_count": 0,
      "outputs": []
    },
    {
      "cell_type": "code",
      "metadata": {
        "id": "YIvNzKSw6X7p",
        "colab_type": "code",
        "colab": {}
      },
      "source": [
        "bookworm2.show_error()"
      ],
      "execution_count": 0,
      "outputs": []
    },
    {
      "cell_type": "code",
      "metadata": {
        "id": "ejG8ZGtm06ez",
        "colab_type": "code",
        "colab": {}
      },
      "source": [
        "sakuraWars = Tester(SakuraWars)\n",
        "sakuraWars.show_result()"
      ],
      "execution_count": 0,
      "outputs": []
    },
    {
      "cell_type": "code",
      "metadata": {
        "id": "jB312MQz7-L8",
        "colab_type": "code",
        "colab": {}
      },
      "source": [
        "sakuraWars.show_error()"
      ],
      "execution_count": 0,
      "outputs": []
    },
    {
      "cell_type": "code",
      "metadata": {
        "id": "MUvlNfRUBN35",
        "colab_type": "code",
        "colab": {}
      },
      "source": [
        "kakushigoto = Tester(Kakushigoto)\n",
        "kakushigoto.show_result()"
      ],
      "execution_count": 0,
      "outputs": []
    },
    {
      "cell_type": "code",
      "metadata": {
        "id": "boyw06MDBPff",
        "colab_type": "code",
        "colab": {}
      },
      "source": [
        "kakushigoto.show_error()"
      ],
      "execution_count": 0,
      "outputs": []
    },
    {
      "cell_type": "code",
      "metadata": {
        "id": "ea8u-PeW5E7W",
        "colab_type": "code",
        "colab": {}
      },
      "source": [
        "hameFura = Tester(HameFura)\n",
        "hameFura.show_result()"
      ],
      "execution_count": 0,
      "outputs": []
    },
    {
      "cell_type": "code",
      "metadata": {
        "id": "CK24ojls8EJi",
        "colab_type": "code",
        "colab": {}
      },
      "source": [
        "hameFura.show_error()"
      ],
      "execution_count": 0,
      "outputs": []
    },
    {
      "cell_type": "code",
      "metadata": {
        "id": "QCthZFw8Dhx4",
        "colab_type": "code",
        "colab": {}
      },
      "source": [
        "kinmozaPrettyDays = Tester(KinmozaPrettyDays)\n",
        "kinmozaPrettyDays.show_result()"
      ],
      "execution_count": 0,
      "outputs": []
    },
    {
      "cell_type": "code",
      "metadata": {
        "id": "8xCwEppEDjFJ",
        "colab_type": "code",
        "colab": {}
      },
      "source": [
        "kinmozaPrettyDays.show_error()"
      ],
      "execution_count": 0,
      "outputs": []
    },
    {
      "cell_type": "code",
      "metadata": {
        "id": "QU12-akDAY3L",
        "colab_type": "code",
        "colab": {}
      },
      "source": [
        "test = Tester('Test')\n",
        "test.show_result()"
      ],
      "execution_count": 0,
      "outputs": []
    }
  ]
}